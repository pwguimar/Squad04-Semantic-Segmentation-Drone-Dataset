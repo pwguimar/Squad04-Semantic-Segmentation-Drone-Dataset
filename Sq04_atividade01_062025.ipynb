{
  "nbformat": 4,
  "nbformat_minor": 0,
  "metadata": {
    "colab": {
      "provenance": [],
      "include_colab_link": true
    },
    "kernelspec": {
      "name": "python3",
      "display_name": "Python 3"
    },
    "language_info": {
      "name": "python"
    }
  },
  "cells": [
    {
      "cell_type": "markdown",
      "metadata": {
        "id": "view-in-github",
        "colab_type": "text"
      },
      "source": [
        "<a href=\"https://colab.research.google.com/github/pwguimar/Squad04-Semantic-Segmentation-Drone-Dataset/blob/main/Sq04_atividade01_062025.ipynb\" target=\"_parent\"><img src=\"https://colab.research.google.com/assets/colab-badge.svg\" alt=\"Open In Colab\"/></a>"
      ]
    },
    {
      "cell_type": "markdown",
      "source": [
        "# Modelo de Segmentação de Imagens Urbanas\n",
        "## Bootcamp Machine Learning - Atlântico Avanti: 06/2025.\n",
        "\n",
        "Neste primeira etapa, o trabalho avaliou o dataset \"Semantic Segmentation Drone Dataset\" e teve como foco principal a análise exploratória dos dados disponíveis.\n",
        "\n",
        "**Objetivo**: apresentar informações iniciais sobre as características do dataset.\n",
        "\n",
        "**Integrantes**:\n",
        "\n",
        "- Felipe Ferreira Dos Santos\n",
        "- Hozana Izadora Da Silva Ferreira\n",
        "- Patrick Wohrle Guimaraes\n",
        "- Sarah Cavalcante Salvino\n",
        "\n",
        "**Dataset disponível em**: [Kaggle]( https://www.kaggle.com/datasets/santurini/semantic-segmentation-drone-dataset?select=Image)"
      ],
      "metadata": {
        "id": "4KDKkJhuqPDO"
      }
    },
    {
      "cell_type": "markdown",
      "source": [
        "## 📚 Instalações, montar drive (Gdrive), importar Bibliotecas e  leitura dataset"
      ],
      "metadata": {
        "id": "f-KEQy0wq0J1"
      }
    },
    {
      "cell_type": "code",
      "source": [
        "# Instalação de bibliotecas necessárias\n",
        "!pip install pandas numpy matplotlib Pillow opencv-python imagehash tqdm tabulate"
      ],
      "metadata": {
        "collapsed": true,
        "colab": {
          "base_uri": "https://localhost:8080/"
        },
        "id": "Wovo0oJmsJl0",
        "outputId": "ff41efce-aebb-47d6-99f0-4192b317ba39"
      },
      "execution_count": 2,
      "outputs": [
        {
          "output_type": "stream",
          "name": "stdout",
          "text": [
            "Requirement already satisfied: pandas in /usr/local/lib/python3.11/dist-packages (2.2.2)\n",
            "Requirement already satisfied: numpy in /usr/local/lib/python3.11/dist-packages (2.0.2)\n",
            "Requirement already satisfied: matplotlib in /usr/local/lib/python3.11/dist-packages (3.10.0)\n",
            "Requirement already satisfied: Pillow in /usr/local/lib/python3.11/dist-packages (11.2.1)\n",
            "Requirement already satisfied: opencv-python in /usr/local/lib/python3.11/dist-packages (4.11.0.86)\n",
            "Collecting imagehash\n",
            "  Downloading ImageHash-4.3.2-py2.py3-none-any.whl.metadata (8.4 kB)\n",
            "Requirement already satisfied: tqdm in /usr/local/lib/python3.11/dist-packages (4.67.1)\n",
            "Requirement already satisfied: tabulate in /usr/local/lib/python3.11/dist-packages (0.9.0)\n",
            "Requirement already satisfied: python-dateutil>=2.8.2 in /usr/local/lib/python3.11/dist-packages (from pandas) (2.9.0.post0)\n",
            "Requirement already satisfied: pytz>=2020.1 in /usr/local/lib/python3.11/dist-packages (from pandas) (2025.2)\n",
            "Requirement already satisfied: tzdata>=2022.7 in /usr/local/lib/python3.11/dist-packages (from pandas) (2025.2)\n",
            "Requirement already satisfied: contourpy>=1.0.1 in /usr/local/lib/python3.11/dist-packages (from matplotlib) (1.3.2)\n",
            "Requirement already satisfied: cycler>=0.10 in /usr/local/lib/python3.11/dist-packages (from matplotlib) (0.12.1)\n",
            "Requirement already satisfied: fonttools>=4.22.0 in /usr/local/lib/python3.11/dist-packages (from matplotlib) (4.58.4)\n",
            "Requirement already satisfied: kiwisolver>=1.3.1 in /usr/local/lib/python3.11/dist-packages (from matplotlib) (1.4.8)\n",
            "Requirement already satisfied: packaging>=20.0 in /usr/local/lib/python3.11/dist-packages (from matplotlib) (24.2)\n",
            "Requirement already satisfied: pyparsing>=2.3.1 in /usr/local/lib/python3.11/dist-packages (from matplotlib) (3.2.3)\n",
            "Requirement already satisfied: PyWavelets in /usr/local/lib/python3.11/dist-packages (from imagehash) (1.8.0)\n",
            "Requirement already satisfied: scipy in /usr/local/lib/python3.11/dist-packages (from imagehash) (1.15.3)\n",
            "Requirement already satisfied: six>=1.5 in /usr/local/lib/python3.11/dist-packages (from python-dateutil>=2.8.2->pandas) (1.17.0)\n",
            "Downloading ImageHash-4.3.2-py2.py3-none-any.whl (296 kB)\n",
            "\u001b[2K   \u001b[90m━━━━━━━━━━━━━━━━━━━━━━━━━━━━━━━━━━━━━━━━\u001b[0m \u001b[32m296.7/296.7 kB\u001b[0m \u001b[31m4.5 MB/s\u001b[0m eta \u001b[36m0:00:00\u001b[0m\n",
            "\u001b[?25hInstalling collected packages: imagehash\n",
            "Successfully installed imagehash-4.3.2\n"
          ]
        }
      ]
    },
    {
      "cell_type": "code",
      "source": [
        "# Montar o Google Drive\n",
        "from google.colab import drive\n",
        "drive.mount('/content/drive')"
      ],
      "metadata": {
        "colab": {
          "base_uri": "https://localhost:8080/"
        },
        "collapsed": true,
        "id": "-drNDexiq4FS",
        "outputId": "be459179-c5d3-4ae1-c1eb-5ca1d62bc909"
      },
      "execution_count": 3,
      "outputs": [
        {
          "output_type": "stream",
          "name": "stdout",
          "text": [
            "Mounted at /content/drive\n"
          ]
        }
      ]
    },
    {
      "cell_type": "code",
      "source": [
        "import os\n",
        "import pandas as pd\n",
        "import numpy as np\n",
        "from PIL import Image\n",
        "import cv2\n",
        "import imagehash\n",
        "import ast\n",
        "import json\n",
        "from collections import Counter\n",
        "import matplotlib.pyplot as plt\n",
        "from tabulate import tabulate\n",
        "from pathlib import Path\n",
        "from itertools import combinations\n",
        "from pathlib import Path\n",
        "\n",
        "\n",
        "# Definição dos caminhos para o dataset no Google Drive\n",
        "# AJUSTE ESTES CAMINHOS para onde você salvou o dataset no SEU Google Drive\n",
        "# Exemplo: se você salvou o conteúdo da pasta 'semantic-segmentation-drone-dataset'\n",
        "# dentro de 'Meu Drive/datasets/semantic-segmentation-drone-dataset'\n",
        "BASE_DIR = \"/content/drive/MyDrive/dataset\"\n",
        "IMAGE_DIR = os.path.join(BASE_DIR, \"binary_dataset/binary_dataset/original_images/\")\n",
        "MASK_DIR = os.path.join(BASE_DIR, \"binary_dataset/binary_dataset/images_semantic/\")\n",
        "\n",
        "# Verificar se os diretórios existem\n",
        "if not os.path.exists(IMAGE_DIR):\n",
        "    print(f\"ERRO: Diretório de imagens não encontrado em {IMAGE_DIR}\")\n",
        "    print(\"Por favor, ajuste o caminho IMAGE_DIR para o local correto no seu Google Drive.\")\n",
        "if not os.path.exists(MASK_DIR):\n",
        "    print(f\"ERRO: Diretório de máscaras não encontrado em {MASK_DIR}\")\n",
        "    print(\"Por favor, ajuste o caminho MASK_DIR para o local correto no seu Google Drive.\")\n",
        "\n",
        "# Lista de arquivos nos diretórios\n",
        "# Use um bloco try-except caso os diretórios não existam (devido a caminhos incorretos)\n",
        "try:\n",
        "    image_files = sorted([f for f in os.listdir(IMAGE_DIR) if os.path.isfile(os.path.join(IMAGE_DIR, f))])\n",
        "    mask_files = sorted([f for f in os.listdir(MASK_DIR) if os.path.isfile(os.path.join(MASK_DIR, f))])\n",
        "\n",
        "    print(f\"Total de imagens encontradas: {len(image_files)}\")\n",
        "    print(f\"Total de máscaras encontradas: {len(mask_files)}\")\n",
        "\n",
        "except FileNotFoundError:\n",
        "    print(\"\\nNão foi possível listar os arquivos. Verifique se os caminhos IMAGE_DIR e MASK_DIR estão corretos.\")\n",
        "    image_files = [] # Definir como lista vazia para evitar erros nos próximos passos\n",
        "    mask_files = []"
      ],
      "metadata": {
        "colab": {
          "base_uri": "https://localhost:8080/"
        },
        "id": "m2G7hl3Br-sI",
        "outputId": "36ced7a6-8a34-480e-d223-db4a62c6204f"
      },
      "execution_count": 4,
      "outputs": [
        {
          "output_type": "stream",
          "name": "stdout",
          "text": [
            "Total de imagens encontradas: 400\n",
            "Total de máscaras encontradas: 400\n"
          ]
        }
      ]
    },
    {
      "cell_type": "markdown",
      "source": [
        "# Integridade dos Arquivos"
      ],
      "metadata": {
        "id": "x5r__Wd0zEkU"
      }
    },
    {
      "cell_type": "code",
      "source": [
        "#import os\n",
        "\n",
        "# Montar o Google Drive (execute esta célula no Colab antes de rodar o resto)\n",
        "#from google.colab import drive\n",
        "#drive.mount('/content/drive')\n",
        "\n",
        "# Defina os caminhos com base no seu Google Drive\n",
        "#BASE_DIR = \"/content/drive/MyDrive/dataset\" # This is correct, points to MyDrive/dataset\n",
        "\n",
        "# Correção aqui: remova o \"dataset/\" extra\n",
        "#IMAGE_DIR = os.path.join(BASE_DIR, \"original_images/\")\n",
        "#MASK_DIR = os.path.join(BASE_DIR, \"images_semantic/\")\n",
        "#IMAGE_DIR = os.path.join(BASE_DIR, \"binary_dataset/binary_dataset/original_images/\")\n",
        "#MASK_DIR = os.path.join(BASE_DIR, \"binary_dataset/binary_dataset/images_semantic/\")\n",
        "\n",
        "# Esta função verifica:\n",
        "# 1. Se os arquivos das duas pastas têm o mesmo formato (ex: .png)\n",
        "# 2. Se os arquivos têm os mesmos nomes (ignorando a extensão)\n",
        "def verificar_imagens(original_dir, semantic_dir):\n",
        "    resultados = []\n",
        "\n",
        "    def obter_info_diretorio(pasta):\n",
        "        # Listar apenas arquivos, ignorando subdiretórios\n",
        "        arquivos = [f for f in os.listdir(pasta) if os.path.isfile(os.path.join(pasta, f))]\n",
        "        extensoes = {os.path.splitext(f)[-1].lower() for f in arquivos}\n",
        "        nomes_base = {os.path.splitext(f)[0] for f in arquivos}\n",
        "        return arquivos, extensoes, nomes_base\n",
        "\n",
        "    try:\n",
        "        arquivos_ori, ext_ori, nomes_ori = obter_info_diretorio(original_dir)\n",
        "        arquivos_sem, ext_sem, nomes_sem = obter_info_diretorio(semantic_dir)\n",
        "    except FileNotFoundError as e:\n",
        "        return [f\"❌ Erro ao acessar as pastas: {e}\"]\n",
        "    except Exception as e: # Catch other potential errors during listing\n",
        "        return [f\"❌ Ocorreu um erro inesperado ao processar os diretórios: {e}\"]\n",
        "\n",
        "\n",
        "    if len(ext_ori) == 1:\n",
        "        resultados.append(f\"✅ original_images: todas as imagens estão no formato {list(ext_ori)[0]}\")\n",
        "    else:\n",
        "        resultados.append(\"⚠️ original_images contém múltiplos formatos:\")\n",
        "        resultados.extend([f\"   - {ext}\" for ext in sorted(ext_ori)])\n",
        "\n",
        "    if len(ext_sem) == 1:\n",
        "        resultados.append(f\"✅ images_semantic: todas as imagens estão no formato {list(ext_sem)[0]}\")\n",
        "    else:\n",
        "        resultados.append(\"⚠️ images_semantic contém múltiplos formatos:\")\n",
        "        resultados.extend([f\"   - {ext}\" for ext in sorted(ext_sem)])\n",
        "\n",
        "    if nomes_ori == nomes_sem:\n",
        "        resultados.append(\"✅ As duas pastas possuem os mesmos nomes de arquivos (sem extensão).\")\n",
        "    else:\n",
        "        # Sort these sets to ensure consistent output order\n",
        "        faltando_em_sem = sorted(nomes_ori - nomes_sem)\n",
        "        faltando_em_ori = sorted(nomes_sem - nomes_ori)\n",
        "\n",
        "        resultados.append(\"⚠️ Diferenças entre os nomes de arquivos encontrados:\")\n",
        "        if faltando_em_sem:\n",
        "            resultados.append(\"   - Presentes em original_images, mas faltando em images_semantic:\")\n",
        "            resultados.extend([f\"     - {nome}\" for nome in faltando_em_sem])\n",
        "        if faltando_em_ori:\n",
        "            resultados.append(\"   - Presentes em images_semantic, mas faltando em original_images:\")\n",
        "            resultados.extend([f\"     - {nome}\" for nome in faltando_em_ori])\n",
        "\n",
        "    return resultados\n",
        "\n",
        "# Executa a verificação e imprime os resultados\n",
        "print(\"\\n📋 Resultados da verificação:\\n\")\n",
        "for linha in verificar_imagens(IMAGE_DIR, MASK_DIR):\n",
        "    print(linha)"
      ],
      "metadata": {
        "colab": {
          "base_uri": "https://localhost:8080/"
        },
        "id": "OO-bkJmVjbRR",
        "outputId": "7a053add-f262-490a-90cf-f6b5f20fe62b"
      },
      "execution_count": 5,
      "outputs": [
        {
          "output_type": "stream",
          "name": "stdout",
          "text": [
            "\n",
            "📋 Resultados da verificação:\n",
            "\n",
            "✅ original_images: todas as imagens estão no formato .png\n",
            "✅ images_semantic: todas as imagens estão no formato .png\n",
            "✅ As duas pastas possuem os mesmos nomes de arquivos (sem extensão).\n"
          ]
        }
      ]
    },
    {
      "cell_type": "markdown",
      "source": [
        "# Consistência dos Metadados"
      ],
      "metadata": {
        "id": "6MRexX54Kijh"
      }
    },
    {
      "cell_type": "markdown",
      "source": [
        "* **Verifique se há valores ausentes nos metadados e como esses casos são tratados.**\n",
        "\n",
        "* **Verifique valores inconsistentes, por exemplo: dimensões de imagens fora do esperado**\n"
      ],
      "metadata": {
        "id": "K7WOxCInKwsJ"
      }
    },
    {
      "cell_type": "code",
      "source": [
        "\n",
        "CSV_PATH = r\"/content/metadata_binario.csv\"\n",
        "VALORES_INVALIDOS = {\"\", \"N/A\", \"None\", \"[]\", \"{}\", \"nan\", \"NaN\", \"n/a\", \"null\"}\n",
        "\n",
        "CLASSES_BINARIAS = {\n",
        "    0: {0, 5, 6, 7, 8, 10, 11, 12, 13, 14, 15, 16, 17, 18, 19, 20},  # background\n",
        "    1: {1, 2, 3, 4, 9}  # objeto\n",
        "}\n",
        "\n",
        "# Função para formatar porcentagens de acordo com as faixas de pixels\n",
        "# de background e objeto\n",
        "def formatar_porcentagem(valor):\n",
        "    if valor == 0:\n",
        "        return \"0%\"\n",
        "    elif valor < 0.01:\n",
        "        return \"<1%\"\n",
        "    elif valor < 0.1:\n",
        "        return \"1-10%\"\n",
        "    elif valor < 0.25:\n",
        "        return \"10-25%\"\n",
        "    elif valor < 0.5:\n",
        "        return \"25-50%\"\n",
        "    elif valor < 0.75:\n",
        "        return \"50-75%\"\n",
        "    else:\n",
        "        return \">75%\"\n",
        "\n",
        "def verificar_metadados(csv_path):\n",
        "    if not os.path.exists(csv_path):\n",
        "        print(f\"[ERRO] Arquivo não encontrado: {csv_path}\")\n",
        "        return\n",
        "\n",
        "    df = pd.read_csv(csv_path)\n",
        "    total_imagens = len(df)\n",
        "    print(f\"\\nℹ️ Total de imagens no dataset: {total_imagens:,}\")\n",
        "\n",
        "    print(\"\\n 1. Valores ausentes ou inválidos:\")\n",
        "    print(\"-\" * 50)\n",
        "    nulos = df.isnull().sum()\n",
        "    nulos = nulos[nulos > 0]\n",
        "\n",
        "    if nulos.empty:\n",
        "        print(\" Nenhum valor ausente (NaN) encontrado.\")\n",
        "    else:\n",
        "        print(\" Valores ausentes encontrados:\")\n",
        "        print(tabulate(nulos.reset_index().rename(columns={\"index\": \"Coluna\", 0: \"Total NaN\"}), headers=\"keys\", tablefmt=\"pretty\"))\n",
        "\n",
        "    simbolicos_invalidos = []\n",
        "    for col in df.columns:\n",
        "        count = df[col].astype(str).isin(VALORES_INVALIDOS).sum()\n",
        "        if count > 0:\n",
        "            simbolicos_invalidos.append((col, count))\n",
        "\n",
        "    if not simbolicos_invalidos:\n",
        "        print(\" Nenhum valor simbólico inválido encontrado.\")\n",
        "    else:\n",
        "        print(\"\\n Valores simbólicos inválidos encontrados:\")\n",
        "        print(tabulate(simbolicos_invalidos, headers=[\"Coluna\", \"Quantidade\"], tablefmt=\"pretty\"))\n",
        "\n",
        "    print(\"\\n 2. Dimensões das imagens:\")\n",
        "    print(\"-\" * 50)\n",
        "    retangulares = df[df[\"largura\"] != df[\"altura\"]]\n",
        "    if retangulares.empty:\n",
        "        print(\" Todas as imagens são quadradas (largura = altura).\")\n",
        "    else:\n",
        "        primeiro = retangulares.iloc[0]\n",
        "        print(f\"  {len(retangulares)} imagens retangulares encontradas.\")\n",
        "        print(f\"  Exemplo: arquivo={primeiro['arquivo']}, largura={primeiro['largura']}, altura={primeiro['altura']}\")\n",
        "\n",
        "\n",
        "    print(\"\\n 3. Consistência dos dados de pixels:\")\n",
        "    print(\"-\" * 50)\n",
        "    df[\"soma_pixels\"] = df[\"pixels_background\"] + df[\"pixels_objeto\"]\n",
        "    inconsistencias = df[df[\"soma_pixels\"] != df[\"total_pixels\"]]\n",
        "\n",
        "    if inconsistencias.empty:\n",
        "        print(\" Todas as imagens têm soma de pixels (background + objeto) igual ao total.\")\n",
        "    else:\n",
        "        print(f\" {len(inconsistencias)} imagens com soma de pixels inconsistente:\")\n",
        "        print(tabulate(inconsistencias[[\"arquivo\", \"pixels_background\", \"pixels_objeto\", \"total_pixels\"]].head(), headers=\"keys\", tablefmt=\"pretty\"))\n",
        "\n",
        "    df[\"soma_proporcao\"] = df[\"proporcao_background\"] + df[\"proporcao_objeto\"]\n",
        "    proporcoes_inconsistentes = df[abs(df[\"soma_proporcao\"] - 1.0) > 0.01]\n",
        "    if proporcoes_inconsistentes.empty:\n",
        "        print(\" Todas as imagens têm proporções que somam aproximadamente 1.0.\")\n",
        "    else:\n",
        "        print(f\" {len(proporcoes_inconsistentes)} imagens com proporções inconsistentes:\")\n",
        "        print(tabulate(proporcoes_inconsistentes[[\"arquivo\", \"proporcao_background\", \"proporcao_objeto\", \"soma_proporcao\"]].head(), headers=\"keys\", tablefmt=\"pretty\"))\n",
        "\n",
        "    print(\"\\n 4. Verificação das faixas de porcentagem:\")\n",
        "    print(\"-\" * 50)\n",
        "    df[\"faixa_calculada\"] = df[\"proporcao_objeto\"].apply(formatar_porcentagem)\n",
        "    faixas_incorretas = df[df[\"faixa_proporcao_objeto\"] != df[\"faixa_calculada\"]]\n",
        "    if faixas_incorretas.empty:\n",
        "        print(\" Todas as faixas de porcentagem estão corretamente calculadas.\")\n",
        "    else:\n",
        "        print(f\" {len(faixas_incorretas)} imagens com faixas de porcentagem incorretas:\")\n",
        "        print(tabulate(faixas_incorretas[[\"arquivo\", \"proporcao_objeto\", \"faixa_proporcao_objeto\", \"faixa_calculada\"]].head(), headers=\"keys\", tablefmt=\"pretty\"))\n",
        "\n",
        "        # 5. Análise binária: presença de fundo e objeto\n",
        "    print(\"\\n 5. Análise binária (com base em background e objeto):\")\n",
        "    print(\"-\" * 50)\n",
        "\n",
        "    if {\"somente_background\", \"somente_objeto\", \"background_e_objeto\"}.issubset(df.columns):\n",
        "        total = len(df)\n",
        "        apenas_bg = df[\"somente_background\"].sum()\n",
        "        apenas_obj = df[\"somente_objeto\"].sum()\n",
        "        ambos = df[\"background_e_objeto\"].sum()\n",
        "\n",
        "        print(f\" Imagens com apenas background: {apenas_bg} ({apenas_bg / total:.1%})\")\n",
        "        print(f\" Imagens com apenas objeto: {apenas_obj} ({apenas_obj / total:.1%})\")\n",
        "        print(f\" Imagens com background e objeto: {ambos} ({ambos / total:.1%})\")\n",
        "\n",
        "        if apenas_bg > 0:\n",
        "            print(\"  Algumas imagens não têm nenhum pixel de objeto — podem ser irrelevantes para o modelo.\")\n",
        "        if apenas_obj > 0:\n",
        "            print(\"  Algumas imagens têm apenas objeto — verifique se o fundo foi corretamente identificado como classe 0.\")\n",
        "    else:\n",
        "        print(\" As colunas 'somente_background', 'somente_objeto', 'background_e_objeto' não estão presentes no CSV.\")\n",
        "        print(\"Sem elas, não é possível avaliar a presença dos grupos binários nas máscaras.\")\n",
        "\n",
        "\n",
        "    print(\"\\n\" + \"=\" * 60)\n",
        "    print(\" RESUMO FINAL DA QUALIDADE DOS METADADOS\")\n",
        "    print(\"=\" * 60)\n",
        "\n",
        "    problemas = []\n",
        "    if not nulos.empty:\n",
        "        problemas.append(f\"• Valores ausentes (NaN) em {len(nulos)} coluna(s)\")\n",
        "    if simbolicos_invalidos:\n",
        "        problemas.append(f\"• Valores simbólicos inválidos em {len(simbolicos_invalidos)} coluna(s)\")\n",
        "    if not retangulares.empty:\n",
        "        problemas.append(f\"• {len(retangulares)} imagens retangulares (largura ≠ altura)\")\n",
        "    if not inconsistencias.empty:\n",
        "        problemas.append(f\"• {len(inconsistencias)} imagens com soma de pixels inconsistente\")\n",
        "    if not proporcoes_inconsistentes.empty:\n",
        "        problemas.append(f\"• {len(proporcoes_inconsistentes)} imagens com proporções inconsistentes\")\n",
        "    if not faixas_incorretas.empty:\n",
        "        problemas.append(f\"• {len(faixas_incorretas)} imagens com faixas de porcentagem incorretas\")\n",
        "    if 'classes_presentes' in df.columns and classes_nao_mapeadas:\n",
        "        problemas.append(f\"• {len(classes_nao_mapeadas)} classe(s) não mapeadas no agrupamento binário\")\n",
        "\n",
        "    if problemas:\n",
        "        print(\"\\n PROBLEMAS ENCONTRADOS:\")\n",
        "        for problema in problemas:\n",
        "            print(problema)\n",
        "    else:\n",
        "        print(\"\\n METADADOS CONSISTENTES: Nenhum problema grave encontrado!\")\n",
        "        print(\"O dataset parece estar bem preparado para uso em modelos de segmentação semântica.\")\n",
        "\n",
        "if __name__ == \"__main__\":\n",
        "    verificar_metadados(CSV_PATH)\n",
        "\n"
      ],
      "metadata": {
        "id": "-sn7aFfdK__Y",
        "colab": {
          "base_uri": "https://localhost:8080/"
        },
        "outputId": "8ed1b2f1-0938-4d5e-bb50-52312a530154"
      },
      "execution_count": 6,
      "outputs": [
        {
          "output_type": "stream",
          "name": "stdout",
          "text": [
            "\n",
            "ℹ️ Total de imagens no dataset: 400\n",
            "\n",
            " 1. Valores ausentes ou inválidos:\n",
            "--------------------------------------------------\n",
            " Nenhum valor ausente (NaN) encontrado.\n",
            " Nenhum valor simbólico inválido encontrado.\n",
            "\n",
            " 2. Dimensões das imagens:\n",
            "--------------------------------------------------\n",
            "  400 imagens retangulares encontradas.\n",
            "  Exemplo: arquivo=000.png, largura=960, altura=736\n",
            "\n",
            " 3. Consistência dos dados de pixels:\n",
            "--------------------------------------------------\n",
            " Todas as imagens têm soma de pixels (background + objeto) igual ao total.\n",
            " Todas as imagens têm proporções que somam aproximadamente 1.0.\n",
            "\n",
            " 4. Verificação das faixas de porcentagem:\n",
            "--------------------------------------------------\n",
            " Todas as faixas de porcentagem estão corretamente calculadas.\n",
            "\n",
            " 5. Análise binária (com base em background e objeto):\n",
            "--------------------------------------------------\n",
            " Imagens com apenas background: 0 (0.0%)\n",
            " Imagens com apenas objeto: 0 (0.0%)\n",
            " Imagens com background e objeto: 400 (100.0%)\n",
            "\n",
            "============================================================\n",
            " RESUMO FINAL DA QUALIDADE DOS METADADOS\n",
            "============================================================\n",
            "\n",
            " PROBLEMAS ENCONTRADOS:\n",
            "• 400 imagens retangulares (largura ≠ altura)\n"
          ]
        }
      ]
    },
    {
      "cell_type": "markdown",
      "source": [
        "Embora os metadados estejam íntegros e sem valores ausentes, sem erros de soma de pixels ou de proporções e com todas as faixas corretamente calculadas, há um ponto crítico: todas as 400 imagens são retangulares (960 × 736 no exemplo).\n",
        "\n",
        "E idealmente deveríamos trabalhar com formatos quadrados para manter a proporção dos pixels em tarefas de segmentação semântica.\n",
        "\n",
        "Esse desvio pode afetar a performance de modelos que esperam entradas quadradas, portanto, uma solução seria redimensionar ou recortar as máscaras para um formato uniforme."
      ],
      "metadata": {
        "id": "wGnsfJkTo98K"
      }
    },
    {
      "cell_type": "markdown",
      "source": [
        "\n",
        "\n",
        "\n",
        "---\n",
        "\n"
      ],
      "metadata": {
        "id": "Ud6TyNiGMFBq"
      }
    },
    {
      "cell_type": "markdown",
      "source": [
        "# Qualidade das Imagens (Identificar Imagens Corrompidas)\n",
        "- Objetivo: Identificar imagens (e máscaras) que não podem ser abertas ou processadas, indicando corrupção."
      ],
      "metadata": {
        "id": "39FLL3Sj_SM_"
      }
    },
    {
      "cell_type": "code",
      "source": [
        "import os\n",
        "from PIL import Image\n",
        "# Removida a importação de tqdm\n",
        "\n",
        "def check_corrupted_files(directory, filenames, file_type):\n",
        "    \"\"\"\n",
        "    Verifica se os arquivos em um diretório específico estão corrompidos\n",
        "    tentando abri-los e verificando sua integridade usando Pillow.\n",
        "\n",
        "    Args:\n",
        "        directory (str): O caminho para o diretório contendo os arquivos.\n",
        "        filenames (list): Uma lista de nomes de arquivos a serem verificados.\n",
        "        file_type (str): Um nome descritivo para o tipo de arquivo (ex: 'imagens', 'máscaras').\n",
        "\n",
        "    Returns:\n",
        "        list: Uma lista de tuplas, onde cada tupla contém o nome do arquivo\n",
        "              corrompido e a mensagem de erro capturada.\n",
        "    \"\"\"\n",
        "    corrupted_list = []\n",
        "    print(f\"\\nVerificando {file_type} corrompidas...\")\n",
        "\n",
        "    total_files = len(filenames)\n",
        "    if total_files == 0:\n",
        "        print(f\"Nenhum arquivo {file_type} encontrado para verificar.\")\n",
        "        return []\n",
        "\n",
        "    # Define um intervalo para imprimir o progresso (ex: a cada 10% ou 50 arquivos)\n",
        "    # Garante que o intervalo seja pelo menos 1\n",
        "    print_interval = max(1, min(total_files // 10, 50))\n",
        "\n",
        "    for i, filename in enumerate(filenames):\n",
        "        filepath = os.path.join(directory, filename)\n",
        "\n",
        "        # Imprime uma mensagem de progresso em intervalos definidos\n",
        "        if (i + 1) % print_interval == 0 or (i + 1) == total_files:\n",
        "            print(f\"  Processados {i + 1}/{total_files} arquivos {file_type}...\")\n",
        "\n",
        "        try:\n",
        "            # Abre a imagem e verifica sua integridade sem carregar todos os dados\n",
        "            with Image.open(filepath) as img:\n",
        "                img.verify()\n",
        "        except Exception as e:\n",
        "            # Captura qualquer erro durante a abertura ou verificação\n",
        "            corrupted_list.append((filename, str(e)))\n",
        "\n",
        "    print(f\"Verificação de {file_type} completa.\")\n",
        "\n",
        "    return corrupted_list\n",
        "\n",
        "# --- Início do Algoritmo Principal ---\n",
        "# Assume que 'image_files' e 'mask_files' são listas de nomes de arquivos\n",
        "# e 'IMAGE_DIR' e 'MASK_DIR' são os caminhos para os diretórios,\n",
        "# definidos ANTES deste bloco.\n",
        "\n",
        "if 'image_files' in locals() and 'mask_files' in locals() and image_files and mask_files:\n",
        "    # Chama a função para verificar imagens e máscaras\n",
        "    corrupted_images = check_corrupted_files(IMAGE_DIR, image_files, 'imagens')\n",
        "    corrupted_masks = check_corrupted_files(MASK_DIR, mask_files, 'máscaras')\n",
        "\n",
        "    # --- Relatório dos Resultados ---\n",
        "    if not corrupted_images:\n",
        "        print(\"Verificação de Qualidade: Nenhuma imagem corrompida encontrada.\")\n",
        "    else:\n",
        "        print(f\"Verificação de Qualidade: {len(corrupted_images)} imagens corrompidas encontradas.\")\n",
        "        # Exemplo de como imprimir os arquivos corrompidos (opcional)\n",
        "        # print(\" Exemplos (arquivo, erro):\")\n",
        "        # for item in corrupted_images[:10]:\n",
        "        #     print(f\"  {item[0]}: {item[1]}\")\n",
        "\n",
        "    if not corrupted_masks:\n",
        "        print(\"Verificação de Qualidade: Nenhuma máscara corrompida encontrada.\")\n",
        "    else:\n",
        "        print(f\"Verificação de Qualidade: {len(corrupted_masks)} máscaras corrompidas encontradas.\")\n",
        "        # Exemplo de como imprimir os arquivos corrompidos (opcional)\n",
        "        # print(\" Exemplos (arquivo, erro):\")\n",
        "        # for item in corrupted_masks[:10]:\n",
        "        #     print(f\"  {item[0]}: {item[1]}\")\n",
        "else:\n",
        "    # Executado se as listas de arquivos estiverem vazias ou não definidas\n",
        "    print(\"\\nPulando Verificação de Qualidade: Listas de arquivos de imagem/máscara vazias ou não definidas.\")\n",
        "    print(\"Verifique se IMAGE_DIR e MASK_DIR estão definidos corretamente e contêm arquivos.\")\n"
      ],
      "metadata": {
        "colab": {
          "base_uri": "https://localhost:8080/"
        },
        "id": "-5rH2XI8_h7Z",
        "outputId": "e096079e-55c2-4e71-cd60-fe6f696f89bf"
      },
      "execution_count": 7,
      "outputs": [
        {
          "output_type": "stream",
          "name": "stdout",
          "text": [
            "\n",
            "Verificando imagens corrompidas...\n",
            "  Processados 40/400 arquivos imagens...\n",
            "  Processados 80/400 arquivos imagens...\n",
            "  Processados 120/400 arquivos imagens...\n",
            "  Processados 160/400 arquivos imagens...\n",
            "  Processados 200/400 arquivos imagens...\n",
            "  Processados 240/400 arquivos imagens...\n",
            "  Processados 280/400 arquivos imagens...\n",
            "  Processados 320/400 arquivos imagens...\n",
            "  Processados 360/400 arquivos imagens...\n",
            "  Processados 400/400 arquivos imagens...\n",
            "Verificação de imagens completa.\n",
            "\n",
            "Verificando máscaras corrompidas...\n",
            "  Processados 40/400 arquivos máscaras...\n",
            "  Processados 80/400 arquivos máscaras...\n",
            "  Processados 120/400 arquivos máscaras...\n",
            "  Processados 160/400 arquivos máscaras...\n",
            "  Processados 200/400 arquivos máscaras...\n",
            "  Processados 240/400 arquivos máscaras...\n",
            "  Processados 280/400 arquivos máscaras...\n",
            "  Processados 320/400 arquivos máscaras...\n",
            "  Processados 360/400 arquivos máscaras...\n",
            "  Processados 400/400 arquivos máscaras...\n",
            "Verificação de máscaras completa.\n",
            "Verificação de Qualidade: Nenhuma imagem corrompida encontrada.\n",
            "Verificação de Qualidade: Nenhuma máscara corrompida encontrada.\n"
          ]
        }
      ]
    },
    {
      "cell_type": "markdown",
      "source": [
        "# Distribuição das Classes\n",
        "##### Objetivo: Verificar a distribuição das classes para identificar possíveis desequilíbrios que possam afetar a modelagem\n",
        "\n"
      ],
      "metadata": {
        "id": "1wtSbMQF9J2u"
      }
    },
    {
      "cell_type": "code",
      "source": [
        "# Parâmetros\n",
        "binary_masks_dir = MASK_DIR\n",
        "rgb_to_binary_id = {\n",
        "    (204, 153, 255): 0,  # obstacles\n",
        "    (0, 153, 153): 1     # landing-zones\n",
        "}\n",
        "binary_id_to_name = {\n",
        "    0: 'obstacles',\n",
        "    1: 'landing-zones'\n",
        "}\n",
        "\n",
        "# Verifica máscaras\n",
        "mask_files = [f for f in os.listdir(binary_masks_dir) if f.lower().endswith((\".png\", \".jpg\"))]\n",
        "if not mask_files:\n",
        "    print(\"Nenhuma imagem encontrada.\")\n",
        "    exit()\n",
        "\n",
        "# Contagem de pixels\n",
        "pixel_counts = {name: 0 for name in binary_id_to_name.values()}\n",
        "for i, fname in enumerate(mask_files):\n",
        "    img = cv2.cvtColor(cv2.imread(os.path.join(binary_masks_dir, fname)), cv2.COLOR_BGR2RGB)\n",
        "    mask = np.full(img.shape[:2], 255, np.uint8)\n",
        "\n",
        "    for rgb, val in rgb_to_binary_id.items():\n",
        "        match = np.all(np.abs(img - rgb) <= 1, axis=2)\n",
        "        mask[match] = val\n",
        "\n",
        "    unique, counts = np.unique(mask, return_counts=True)\n",
        "    for u, c in zip(unique, counts):\n",
        "        if u != 255 and u in binary_id_to_name:\n",
        "            pixel_counts[binary_id_to_name[u]] += c\n",
        "\n",
        "    if i == 0:\n",
        "        print(\"Valores únicos após remapeamento:\", np.unique(mask))\n",
        "\n",
        "# Distribuição\n",
        "total = sum(pixel_counts.values())\n",
        "for cls, count in pixel_counts.items():\n",
        "    perc = (count / total) * 100 if total else 0\n",
        "    print(f\"{cls}: {count} pixels ({perc:.2f}%)\")\n",
        "\n",
        "# Gráfico\n",
        "plt.bar(pixel_counts.keys(), [v / total * 100 for v in pixel_counts.values()], color=['lightcoral', 'lightgreen'])\n",
        "plt.ylabel('% de Pixels')\n",
        "plt.title('Distribuição de Classes')\n",
        "plt.grid(True, axis='y', linestyle='--', alpha=0.5)\n",
        "plt.show()"
      ],
      "metadata": {
        "colab": {
          "base_uri": "https://localhost:8080/",
          "height": 504
        },
        "id": "xHnDxsjF9vbN",
        "outputId": "9e71bed9-a064-4877-ebb6-143dbe1af55a"
      },
      "execution_count": 8,
      "outputs": [
        {
          "output_type": "stream",
          "name": "stdout",
          "text": [
            "Valores únicos após remapeamento: [0 1]\n",
            "obstacles: 68908231 pixels (24.38%)\n",
            "landing-zones: 213715769 pixels (75.62%)\n"
          ]
        },
        {
          "output_type": "display_data",
          "data": {
            "text/plain": [
              "<Figure size 640x480 with 1 Axes>"
            ],
            "image/png": "[encoded data removed]"
          },
          "metadata": {}
        }
      ]
    },
    {
      "cell_type": "markdown",
      "source": [
        "Saída:\n",
        "```\n",
        "Valores únicos após remapeamento: [0 1]\n",
        "obstacles: 68908231 pixels (24.38%)\n",
        "landing-zones: 213715769 pixels (75.62%)\n",
        "```\n",
        "![download.png](data:image/png;base64,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)\n",
        "\n",
        "Análise:\n",
        "O dataset apresenta um desequilíbrio significativo entre as classes binárias. A classe landing-zones (75.62%) é a classe majoritária, enquanto a classe obstacles (24.38%) é a classe minoritária. A proporção é de aproximadamente 3:1 (três vezes mais pixels de landing-zones do que de obstacles).\n",
        "Embora a classe obstacles esteja acima do limiar de 2.0% para ser considerada \"minoritária crítica\" neste caso, um desequilíbrio de 3:1 ainda pode introduzir viés no modelo se não for tratado."
      ],
      "metadata": {
        "id": "g1WbmCJHFt2p"
      }
    },
    {
      "cell_type": "markdown",
      "source": [
        "# *Duplicatas*\n",
        "\n",
        "■ Identifique imagens duplicadas que possam enviesar os resultados.  \n",
        "■ Verifique duplicatas no arquivo de informações.\n",
        "\n"
      ],
      "metadata": {
        "id": "jej31UzkSZiW"
      }
    },
    {
      "cell_type": "code",
      "source": [
        "# Caminho da pasta\n",
        "caminho_pasta = Path(\"binary_dataset/binary_dataset/images_semantic/\")\n",
        "\n",
        "# Tamanho fixo para padronizar\n",
        "tamanho_padrao = (256, 256)\n",
        "\n",
        "# Carrega todas as imagens .png\n",
        "imagens = list(caminho_pasta.glob(\"*.png\"))\n",
        "imagens_dict = {}\n",
        "\n",
        "# Carrega e padroniza\n",
        "for caminho in imagens:\n",
        "    img = cv2.imread(str(caminho), cv2.IMREAD_GRAYSCALE)\n",
        "    if img is not None:\n",
        "        img_padronizada = cv2.resize(img, tamanho_padrao)\n",
        "        imagens_dict[caminho.name] = img_padronizada\n",
        "\n",
        "# Comparar pixel a pixel\n",
        "print(\" Verificando imagens exatamente iguais:\\n\")\n",
        "iguais = False\n",
        "for (nome1, img1), (nome2, img2) in combinations(imagens_dict.items(), 2):\n",
        "    if np.array_equal(img1, img2):\n",
        "        print(f\"🟥 Iguais: {nome1} == {nome2}\")\n",
        "        iguais = True\n",
        "\n",
        "if not iguais:\n",
        "    print(\"✅ Nenhuma imagem exatamente igual encontrada.\")"
      ],
      "metadata": {
        "id": "hFSTgZoIUE4g",
        "colab": {
          "base_uri": "https://localhost:8080/"
        },
        "outputId": "71696362-80ad-4fad-cf29-6b2fc2d899fa"
      },
      "execution_count": 9,
      "outputs": [
        {
          "output_type": "stream",
          "name": "stdout",
          "text": [
            " Verificando imagens exatamente iguais:\n",
            "\n",
            "✅ Nenhuma imagem exatamente igual encontrada.\n"
          ]
        }
      ]
    }
  ]
}